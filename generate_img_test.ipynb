{
 "cells": [
  {
   "cell_type": "code",
   "execution_count": 15,
   "metadata": {},
   "outputs": [],
   "source": [
    "import torch\n",
    "import pickle\n",
    "import argparse\n",
    "from collections import defaultdict\n",
    "from util import get_image_size\n",
    "from tqdm import tqdm\n",
    "from unet import UNet\n",
    "from model import DiffusionModel\n",
    "from util import get_transforms\n"
   ]
  },
  {
   "cell_type": "code",
   "execution_count": 5,
   "metadata": {},
   "outputs": [],
   "source": []
  },
  {
   "cell_type": "code",
   "execution_count": 16,
   "metadata": {},
   "outputs": [],
   "source": [
    "def infer(unet, diffusion_model, device, T, reverse_transform, n):\n",
    "\n",
    "\n",
    "    _t = None\n",
    "    i = None\n",
    "    \n",
    "\n",
    "    bottleneck = defaultdict(list)\n",
    "\n",
    "    unet.eval()\n",
    "    unet.bottleneck.register_forward_hook(lambda x, y, output: bottleneck[_t, i].append(output.cpu().numpy()))\n",
    "\n",
    "    samples = defaultdict(list)\n",
    "\n",
    "    with torch.no_grad():\n",
    "        image = torch.randn((n, 1, 28, 28)).to(device)\n",
    "\n",
    "        for _t in range(T):\n",
    "            torch.manual_seed(_t)\n",
    "            for i in reversed(range(diffusion_model.timesteps)):\n",
    "                if i >= diffusion_model.timesteps - 0.1 * diffusion_model.timesteps:\n",
    "                    for dropout in unet.dropouts:\n",
    "                        dropout.train() \n",
    "                else:\n",
    "                    for dropout in unet.dropouts:\n",
    "                        dropout.eval() \n",
    "                image = diffusion_model.backward(image, torch.full((1, ), i, dtype=torch.long, device=device), unet) + 0.001\n",
    "                samples[i].append(image.cpu().numpy())\n",
    "    \n",
    "    with open('pickels/results.pkl', 'wb') as f:\n",
    "        pickle.dump(samples, f)\n",
    "\n",
    "    with open('pickels/bottlenecks.pkl', 'wb') as f:\n",
    "        pickle.dump(bottleneck, f)"
   ]
  },
  {
   "cell_type": "code",
   "execution_count": 17,
   "metadata": {},
   "outputs": [
    {
     "ename": "AttributeError",
     "evalue": "'UNet' object has no attribute 'dropouts'",
     "output_type": "error",
     "traceback": [
      "\u001b[0;31m---------------------------------------------------------------------------\u001b[0m",
      "\u001b[0;31mAttributeError\u001b[0m                            Traceback (most recent call last)",
      "\u001b[1;32m/home/daiwei/ece839-diffusion/uncertainty-awared-diffusion/generate_img_test.ipynb Cell 4\u001b[0m line \u001b[0;36m1\n\u001b[1;32m     <a href='vscode-notebook-cell://ssh-remote%2Bramya-rtx4090-1/home/daiwei/ece839-diffusion/uncertainty-awared-diffusion/generate_img_test.ipynb#W4sdnNjb2RlLXJlbW90ZQ%3D%3D?line=9'>10</a>\u001b[0m unet\u001b[39m.\u001b[39mload_state_dict(torch\u001b[39m.\u001b[39mload(\u001b[39m'\u001b[39m\u001b[39mweight/parameters.pkl\u001b[39m\u001b[39m'\u001b[39m))\n\u001b[1;32m     <a href='vscode-notebook-cell://ssh-remote%2Bramya-rtx4090-1/home/daiwei/ece839-diffusion/uncertainty-awared-diffusion/generate_img_test.ipynb#W4sdnNjb2RlLXJlbW90ZQ%3D%3D?line=10'>11</a>\u001b[0m diffusion_model \u001b[39m=\u001b[39m DiffusionModel(timesteps\u001b[39m=\u001b[39mTIMESTEPS)\n\u001b[0;32m---> <a href='vscode-notebook-cell://ssh-remote%2Bramya-rtx4090-1/home/daiwei/ece839-diffusion/uncertainty-awared-diffusion/generate_img_test.ipynb#W4sdnNjb2RlLXJlbW90ZQ%3D%3D?line=12'>13</a>\u001b[0m infer(unet, diffusion_model, device, T, reverse_transform, N)\n",
      "\u001b[1;32m/home/daiwei/ece839-diffusion/uncertainty-awared-diffusion/generate_img_test.ipynb Cell 4\u001b[0m line \u001b[0;36m2\n\u001b[1;32m     <a href='vscode-notebook-cell://ssh-remote%2Bramya-rtx4090-1/home/daiwei/ece839-diffusion/uncertainty-awared-diffusion/generate_img_test.ipynb#W4sdnNjb2RlLXJlbW90ZQ%3D%3D?line=19'>20</a>\u001b[0m \u001b[39mfor\u001b[39;00m i \u001b[39min\u001b[39;00m \u001b[39mreversed\u001b[39m(\u001b[39mrange\u001b[39m(diffusion_model\u001b[39m.\u001b[39mtimesteps)):\n\u001b[1;32m     <a href='vscode-notebook-cell://ssh-remote%2Bramya-rtx4090-1/home/daiwei/ece839-diffusion/uncertainty-awared-diffusion/generate_img_test.ipynb#W4sdnNjb2RlLXJlbW90ZQ%3D%3D?line=20'>21</a>\u001b[0m     \u001b[39mif\u001b[39;00m i \u001b[39m>\u001b[39m\u001b[39m=\u001b[39m diffusion_model\u001b[39m.\u001b[39mtimesteps \u001b[39m-\u001b[39m \u001b[39m0.1\u001b[39m \u001b[39m*\u001b[39m diffusion_model\u001b[39m.\u001b[39mtimesteps:\n\u001b[0;32m---> <a href='vscode-notebook-cell://ssh-remote%2Bramya-rtx4090-1/home/daiwei/ece839-diffusion/uncertainty-awared-diffusion/generate_img_test.ipynb#W4sdnNjb2RlLXJlbW90ZQ%3D%3D?line=21'>22</a>\u001b[0m         \u001b[39mfor\u001b[39;00m dropout \u001b[39min\u001b[39;00m unet\u001b[39m.\u001b[39;49mdropouts:\n\u001b[1;32m     <a href='vscode-notebook-cell://ssh-remote%2Bramya-rtx4090-1/home/daiwei/ece839-diffusion/uncertainty-awared-diffusion/generate_img_test.ipynb#W4sdnNjb2RlLXJlbW90ZQ%3D%3D?line=22'>23</a>\u001b[0m             dropout\u001b[39m.\u001b[39mtrain() \n\u001b[1;32m     <a href='vscode-notebook-cell://ssh-remote%2Bramya-rtx4090-1/home/daiwei/ece839-diffusion/uncertainty-awared-diffusion/generate_img_test.ipynb#W4sdnNjb2RlLXJlbW90ZQ%3D%3D?line=23'>24</a>\u001b[0m     \u001b[39melse\u001b[39;00m:\n",
      "File \u001b[0;32m~/miniconda3/envs/py310/lib/python3.10/site-packages/torch/nn/modules/module.py:1695\u001b[0m, in \u001b[0;36mModule.__getattr__\u001b[0;34m(self, name)\u001b[0m\n\u001b[1;32m   1693\u001b[0m     \u001b[39mif\u001b[39;00m name \u001b[39min\u001b[39;00m modules:\n\u001b[1;32m   1694\u001b[0m         \u001b[39mreturn\u001b[39;00m modules[name]\n\u001b[0;32m-> 1695\u001b[0m \u001b[39mraise\u001b[39;00m \u001b[39mAttributeError\u001b[39;00m(\u001b[39mf\u001b[39m\u001b[39m\"\u001b[39m\u001b[39m'\u001b[39m\u001b[39m{\u001b[39;00m\u001b[39mtype\u001b[39m(\u001b[39mself\u001b[39m)\u001b[39m.\u001b[39m\u001b[39m__name__\u001b[39m\u001b[39m}\u001b[39;00m\u001b[39m'\u001b[39m\u001b[39m object has no attribute \u001b[39m\u001b[39m'\u001b[39m\u001b[39m{\u001b[39;00mname\u001b[39m}\u001b[39;00m\u001b[39m'\u001b[39m\u001b[39m\"\u001b[39m)\n",
      "\u001b[0;31mAttributeError\u001b[0m: 'UNet' object has no attribute 'dropouts'"
     ]
    }
   ],
   "source": [
    "device = 'cuda'\n",
    "TIMESTEPS = 300\n",
    "IMAGE_SIZE = (28, 28)\n",
    "N = 2\n",
    "T = 2\n",
    "\n",
    "_, reverse_transform = get_transforms(image_size=IMAGE_SIZE)\n",
    "\n",
    "unet = UNet(input_channels=1, output_channels=1).to(device)\n",
    "unet.load_state_dict(torch.load('weight/parameters.pkl'))\n",
    "diffusion_model = DiffusionModel(timesteps=TIMESTEPS)\n",
    "\n",
    "infer(unet, diffusion_model, device, T, reverse_transform, N)"
   ]
  },
  {
   "cell_type": "code",
   "execution_count": null,
   "metadata": {},
   "outputs": [],
   "source": []
  },
  {
   "cell_type": "code",
   "execution_count": null,
   "metadata": {},
   "outputs": [],
   "source": []
  },
  {
   "cell_type": "code",
   "execution_count": null,
   "metadata": {},
   "outputs": [],
   "source": []
  }
 ],
 "metadata": {
  "kernelspec": {
   "display_name": "py310",
   "language": "python",
   "name": "python3"
  },
  "language_info": {
   "codemirror_mode": {
    "name": "ipython",
    "version": 3
   },
   "file_extension": ".py",
   "mimetype": "text/x-python",
   "name": "python",
   "nbconvert_exporter": "python",
   "pygments_lexer": "ipython3",
   "version": "3.10.13"
  }
 },
 "nbformat": 4,
 "nbformat_minor": 2
}
